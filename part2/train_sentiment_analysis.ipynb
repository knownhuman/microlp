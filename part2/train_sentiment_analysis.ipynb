{
 "cells": [
  {
   "cell_type": "markdown",
   "metadata": {
    "pycharm": {
     "name": "#%% md\n"
    }
   },
   "source": [
    "## Part 2: Training your own ML Model\n",
    "\n",
    "<a href=\"https://colab.research.google.com/github/peckjon/hosting-ml-as-microservice/blob/master/part2/train_sentiment_analysis.ipynb\" target=\"_parent\"><img src=\"https://colab.research.google.com/assets/colab-badge.svg\" alt=\"Open In Colab\"/></a>"
   ]
  },
  {
   "cell_type": "markdown",
   "metadata": {},
   "source": [
    "### Download corpuses\n",
    "\n",
    "We'll continue using the `movie_reviews` corpus to train our model. The `stopwords` corpus contains a [set of standard stopwords](https://gist.github.com/sebleier/554280) we'll want to remove from the input, and `punkt` is used for toneization in the [.words()](https://www.nltk.org/api/nltk.corpus.html#corpus-reader-functions) method of the corpus reader."
   ]
  },
  {
   "cell_type": "code",
   "execution_count": 1,
   "metadata": {
    "pycharm": {
     "name": "#%%\n"
    }
   },
   "outputs": [
    {
     "name": "stderr",
     "output_type": "stream",
     "text": [
      "[nltk_data] Downloading package movie_reviews to\n",
      "[nltk_data]     C:\\Users\\pbrad\\AppData\\Roaming\\nltk_data...\n",
      "[nltk_data]   Package movie_reviews is already up-to-date!\n",
      "[nltk_data] Downloading package punkt to\n",
      "[nltk_data]     C:\\Users\\pbrad\\AppData\\Roaming\\nltk_data...\n",
      "[nltk_data]   Package punkt is already up-to-date!\n",
      "[nltk_data] Downloading package stopwords to\n",
      "[nltk_data]     C:\\Users\\pbrad\\AppData\\Roaming\\nltk_data...\n",
      "[nltk_data]   Package stopwords is already up-to-date!\n"
     ]
    },
    {
     "data": {
      "text/plain": [
       "True"
      ]
     },
     "execution_count": 1,
     "metadata": {},
     "output_type": "execute_result"
    }
   ],
   "source": [
    "import nltk\n",
    "\n",
    "nltk.download('movie_reviews')\n",
    "nltk.download('punkt')\n",
    "nltk.download('stopwords')"
   ]
  },
  {
   "cell_type": "markdown",
   "metadata": {},
   "source": [
    "### Define feature extractor and bag-of-words converter\n",
    "\n",
    "Given a list of (already tokenized) words, we need a function to extract just the ones we care about: those not found in the list of English stopwords or standard punctuation.\n",
    "\n",
    "We also need a way to easily turn a list of words into a [bag-of-words](https://en.wikipedia.org/wiki/Bag-of-words_model), pairing each word with the count of its occurrences."
   ]
  },
  {
   "cell_type": "code",
   "execution_count": 2,
   "metadata": {},
   "outputs": [],
   "source": [
    "from nltk.corpus import stopwords\n",
    "from string import punctuation\n",
    "\n",
    "stopwords_eng = stopwords.words('english')\n",
    "\n",
    "def extract_features(words):\n",
    "    return [w for w in words if w not in stopwords_eng and w not in punctuation]\n",
    "\n",
    "def bag_of_words(words):\n",
    "    bag = {}\n",
    "    for w in words:\n",
    "        bag[w] = bag.get(w,0)+1\n",
    "    return bag"
   ]
  },
  {
   "cell_type": "markdown",
   "metadata": {},
   "source": [
    "### Ingest, clean, and convert the positive and negative reviews\n",
    "\n",
    "For both the positive (\"pos\") and negative (\"neg\") sets of reviews, extract the features and convert to bag of words. From these, we construct a list of tuples known as a \"featureset\": the first part of each tuple is the bag of words for that review, and the second is its label (\"pos\"/\"neg\").\n",
    "\n",
    "Note that `movie_reviews.words(fileid)` provides a tokenized list of words. If we wanted the un-tokenized text, we would use `movie_reviews.raw(fileid)` instead, then tokenize it using our preferred tokenizeer (e.g. [nltk.tokenize.word_tokenize](https://www.nltk.org/api/nltk.tokenize.html#nltk.tokenize.punkt.PunktLanguageVars.word_tokenize))."
   ]
  },
  {
   "cell_type": "code",
   "execution_count": 3,
   "metadata": {},
   "outputs": [],
   "source": [
    "from nltk.corpus import movie_reviews\n",
    "\n",
    "reviews_pos = []\n",
    "reviews_neg = []\n",
    "for fileid in movie_reviews.fileids('pos'):\n",
    "    words = extract_features(movie_reviews.words(fileid))\n",
    "    reviews_pos.append((bag_of_words(words), 'pos'))\n",
    "for fileid in movie_reviews.fileids('neg'):\n",
    "    words = extract_features(movie_reviews.words(fileid))\n",
    "    reviews_neg.append((bag_of_words(words), 'neg'))"
   ]
  },
  {
   "cell_type": "code",
   "execution_count": 4,
   "metadata": {},
   "outputs": [
    {
     "data": {
      "text/plain": [
       "'pos'"
      ]
     },
     "execution_count": 4,
     "metadata": {},
     "output_type": "execute_result"
    }
   ],
   "source": [
    "reviews_pos[123][1]"
   ]
  },
  {
   "cell_type": "markdown",
   "metadata": {},
   "source": [
    "### Split reviews into training and test sets\n",
    "We need to break up each group of reviews into a training set (about 80%) and a test set (the remaining 20%). In case there's some meaningful order to the reviews (e.g. the first 800 are from one group of reviewers, the next 200 are from another), we shuffle the sets first to ensure we aren't introducing additional bias. Note that this means our accuracy will not be exactly the same on every run; if you wish to see consistent results on each run, you can stabilize the shuffle by calling [random.seed(n)](https://www.geeksforgeeks.org/random-seed-in-python/) first."
   ]
  },
  {
   "cell_type": "code",
   "execution_count": 5,
   "metadata": {},
   "outputs": [],
   "source": [
    "from random import shuffle\n",
    "\n",
    "split_pct = .80\n",
    "\n",
    "def split_set(review_set):\n",
    "    split = int(len(review_set)*split_pct)\n",
    "    return (review_set[:split], review_set[split:])\n",
    "\n",
    "shuffle(reviews_pos)\n",
    "shuffle(reviews_neg)\n",
    "\n",
    "pos_train, pos_test = split_set(reviews_pos)\n",
    "neg_train, neg_test = split_set(reviews_neg)\n",
    "\n",
    "train_set = pos_train+neg_train\n",
    "test_set = pos_test+neg_test"
   ]
  },
  {
   "cell_type": "code",
   "execution_count": 6,
   "metadata": {},
   "outputs": [
    {
     "data": {
      "text/plain": [
       "({'ever': 1,\n",
       "  'wonder': 2,\n",
       "  'dennis': 1,\n",
       "  'rodman': 1,\n",
       "  'actually': 1,\n",
       "  'planet': 4,\n",
       "  'sylvester': 1,\n",
       "  'stallone': 1,\n",
       "  'kind': 2,\n",
       "  'weird': 2,\n",
       "  'extra': 1,\n",
       "  'terrestrial': 1,\n",
       "  'used': 2,\n",
       "  'think': 1,\n",
       "  '7th': 1,\n",
       "  'grade': 1,\n",
       "  'english': 1,\n",
       "  'teacher': 1,\n",
       "  'ms': 1,\n",
       "  'carey': 1,\n",
       "  'seeing': 1,\n",
       "  'movie': 5,\n",
       "  'may': 2,\n",
       "  'confirmed': 1,\n",
       "  'suspicions': 1,\n",
       "  'story': 2,\n",
       "  'goes': 1,\n",
       "  'time': 1,\n",
       "  'thousand': 1,\n",
       "  'aliens': 5,\n",
       "  'living': 1,\n",
       "  'among': 2,\n",
       "  'us': 2,\n",
       "  'earth': 5,\n",
       "  'men': 2,\n",
       "  'black': 2,\n",
       "  'mib': 6,\n",
       "  'watchdogs': 1,\n",
       "  'oversee': 1,\n",
       "  'cosmic': 2,\n",
       "  'citizens': 1,\n",
       "  'guardians': 1,\n",
       "  'beloved': 1,\n",
       "  'nasty': 1,\n",
       "  'tempered': 1,\n",
       "  'secret': 1,\n",
       "  'service': 1,\n",
       "  'stars': 2,\n",
       "  'based': 1,\n",
       "  'new': 1,\n",
       "  'york': 1,\n",
       "  'city': 1,\n",
       "  'norm': 1,\n",
       "  'organization': 1,\n",
       "  'gives': 2,\n",
       "  'human': 3,\n",
       "  'form': 2,\n",
       "  'space': 2,\n",
       "  'faring': 1,\n",
       "  'emigrants': 1,\n",
       "  'walk': 1,\n",
       "  'live': 2,\n",
       "  'unnoticed': 1,\n",
       "  'enforce': 1,\n",
       "  'laws': 1,\n",
       "  'carry': 2,\n",
       "  'weapons': 1,\n",
       "  'powerful': 1,\n",
       "  'enough': 1,\n",
       "  'meet': 1,\n",
       "  'exceed': 1,\n",
       "  'destruction': 2,\n",
       "  'quotas': 1,\n",
       "  'one': 2,\n",
       "  'single': 1,\n",
       "  'blast': 1,\n",
       "  'worldly': 1,\n",
       "  'technology': 1,\n",
       "  'erase': 1,\n",
       "  'people': 1,\n",
       "  'short': 1,\n",
       "  'term': 1,\n",
       "  'memory': 1,\n",
       "  'common': 1,\n",
       "  'folk': 1,\n",
       "  'see': 1,\n",
       "  'action': 2,\n",
       "  'best': 1,\n",
       "  'leads': 1,\n",
       "  'things': 1,\n",
       "  'gone': 1,\n",
       "  'awry': 1,\n",
       "  'supermarket': 1,\n",
       "  'tabloids': 1,\n",
       "  'little': 1,\n",
       "  'know': 2,\n",
       "  'much': 1,\n",
       "  'stronger': 1,\n",
       "  'battles': 1,\n",
       "  'good': 1,\n",
       "  'v': 1,\n",
       "  'evil': 1,\n",
       "  'going': 1,\n",
       "  'depths': 1,\n",
       "  'important': 1,\n",
       "  'diplomat': 1,\n",
       "  'carrying': 1,\n",
       "  'something': 1,\n",
       "  'precious': 1,\n",
       "  'holds': 1,\n",
       "  'key': 3,\n",
       "  'literally': 1,\n",
       "  'universal': 2,\n",
       "  'peace': 1,\n",
       "  'giant': 1,\n",
       "  'cockroach': 1,\n",
       "  'like': 4,\n",
       "  'alien': 2,\n",
       "  'soon': 1,\n",
       "  'arrives': 1,\n",
       "  'steals': 1,\n",
       "  'wrong': 1,\n",
       "  'hands': 1,\n",
       "  'flippers': 1,\n",
       "  'mandibles': 1,\n",
       "  'tentacles': 1,\n",
       "  'weapon': 1,\n",
       "  'therefore': 1,\n",
       "  'must': 3,\n",
       "  'recovered': 1,\n",
       "  'returned': 1,\n",
       "  'rightful': 1,\n",
       "  'owners': 1,\n",
       "  'otherwise': 1,\n",
       "  'ensure': 1,\n",
       "  'safety': 1,\n",
       "  'destroyed': 1,\n",
       "  'along': 1,\n",
       "  'prevent': 1,\n",
       "  'catastrophe': 1,\n",
       "  'agents': 1,\n",
       "  'case': 1,\n",
       "  'k': 1,\n",
       "  'played': 3,\n",
       "  'tommy': 1,\n",
       "  'lee': 1,\n",
       "  'jones': 3,\n",
       "  'crustier': 1,\n",
       "  'burnt': 1,\n",
       "  'toast': 1,\n",
       "  'even': 2,\n",
       "  'serious': 1,\n",
       "  'al': 1,\n",
       "  'gore': 1,\n",
       "  'sky': 1,\n",
       "  'longer': 1,\n",
       "  'spark': 1,\n",
       "  'eyes': 1,\n",
       "  'accompanied': 1,\n",
       "  'flippant': 1,\n",
       "  'rookie': 1,\n",
       "  'j': 1,\n",
       "  'smith': 2,\n",
       "  'despite': 1,\n",
       "  'shoot': 1,\n",
       "  'em': 1,\n",
       "  'protect': 2,\n",
       "  'premise': 1,\n",
       "  'nothing': 1,\n",
       "  'typical': 1,\n",
       "  'summer': 2,\n",
       "  'independence': 1,\n",
       "  'day': 1,\n",
       "  'knockoff': 1,\n",
       "  'rather': 1,\n",
       "  'stylishly': 1,\n",
       "  'offbeat': 1,\n",
       "  'sci': 1,\n",
       "  'fi': 1,\n",
       "  'comedy': 2,\n",
       "  'pokes': 1,\n",
       "  'fun': 2,\n",
       "  'government': 2,\n",
       "  'always': 1,\n",
       "  'denies': 1,\n",
       "  'real': 1,\n",
       "  'darndest': 1,\n",
       "  'cover': 1,\n",
       "  'give': 1,\n",
       "  'sense': 2,\n",
       "  'excitement': 1,\n",
       "  'keep': 1,\n",
       "  'within': 1,\n",
       "  'parameters': 1,\n",
       "  'recipe': 1,\n",
       "  'hangs': 1,\n",
       "  'balance': 1,\n",
       "  'scenario': 1,\n",
       "  'yet': 1,\n",
       "  'appealing': 1,\n",
       "  'abundance': 1,\n",
       "  'wierdness': 1,\n",
       "  'talking': 1,\n",
       "  'pee': 1,\n",
       "  'wee': 1,\n",
       "  'atomizers': 1,\n",
       "  'mortician': 1,\n",
       "  'lives': 1,\n",
       "  'work': 1,\n",
       "  'lots': 1,\n",
       "  'yucky': 1,\n",
       "  'bugs': 1,\n",
       "  'slime': 1,\n",
       "  'splattering': 1,\n",
       "  'galore': 1,\n",
       "  'straight': 2,\n",
       "  'normal': 1,\n",
       "  'course': 1,\n",
       "  'nyc': 1,\n",
       "  'deadpan': 1,\n",
       "  'feel': 2,\n",
       "  'makes': 2,\n",
       "  'funnier': 1,\n",
       "  'odder': 1,\n",
       "  'plays': 1,\n",
       "  'venerable': 1,\n",
       "  'seen': 1,\n",
       "  'agent': 1,\n",
       "  'seriousness': 1,\n",
       "  'maturity': 1,\n",
       "  'likeable': 1,\n",
       "  'great': 1,\n",
       "  'comic': 1,\n",
       "  'partner': 1,\n",
       "  'man': 1,\n",
       "  'routine': 1,\n",
       "  'click': 1,\n",
       "  'dorothy': 1,\n",
       "  'ruby': 1,\n",
       "  'red': 1,\n",
       "  'shoes': 1,\n",
       "  'look': 1,\n",
       "  'made': 1,\n",
       "  'better': 1,\n",
       "  'direction': 1,\n",
       "  'barry': 1,\n",
       "  'sonnenfeld': 1,\n",
       "  'addam': 1,\n",
       "  'family': 1,\n",
       "  'guy': 1,\n",
       "  'knack': 1,\n",
       "  'gothic': 1,\n",
       "  'successfully': 1,\n",
       "  'transfers': 1,\n",
       "  'macabre': 1,\n",
       "  'humor': 1,\n",
       "  'onto': 1,\n",
       "  'screen': 1,\n",
       "  'appropriate': 1,\n",
       "  'dose': 1,\n",
       "  'special': 1,\n",
       "  'effects': 1,\n",
       "  'helps': 1,\n",
       "  'bolster': 1,\n",
       "  'oddness': 1,\n",
       "  'task': 1,\n",
       "  'without': 1,\n",
       "  'diverting': 1,\n",
       "  'attention': 1,\n",
       "  'actors': 1,\n",
       "  'moves': 1,\n",
       "  'well': 1,\n",
       "  'end': 1,\n",
       "  'credits': 1,\n",
       "  'already': 1,\n",
       "  'rolling': 1,\n",
       "  'result': 1,\n",
       "  '100': 1,\n",
       "  'minutes': 1,\n",
       "  'worth': 1,\n",
       "  'ewwwws': 1,\n",
       "  'blechhhs': 1,\n",
       "  'aaaahhhs': 1,\n",
       "  'wows': 1,\n",
       "  'let': 1,\n",
       "  'color': 1,\n",
       "  'world': 1},\n",
       " 'pos')"
      ]
     },
     "execution_count": 6,
     "metadata": {},
     "output_type": "execute_result"
    }
   ],
   "source": [
    "test_set[1]"
   ]
  },
  {
   "cell_type": "markdown",
   "metadata": {},
   "source": [
    "### Train the model\n",
    "\n",
    "Now that our data is ready, the training step itself is quite simple if we use the [NaiveBayesClassifier](https://www.nltk.org/api/nltk.classify.html#module-nltk.classify.naivebayes) provided by NLTK.\n",
    "\n",
    "If you are used to methods such as `model.fit(x,y)` which take two parameters -- the data and the labels -- it may be confusing that `NaiveBayesClassifier.train` takes just one argument. This is because the labels are already embedded in `train_set`: each element in the set is a Bag of Words paired with a 'pos' or 'neg'; value."
   ]
  },
  {
   "cell_type": "code",
   "execution_count": 7,
   "metadata": {},
   "outputs": [],
   "source": [
    "from nltk.classify import NaiveBayesClassifier\n",
    "\n",
    "model = NaiveBayesClassifier.train(train_set)"
   ]
  },
  {
   "cell_type": "markdown",
   "metadata": {},
   "source": [
    "### Check model accuracy\n",
    "\n",
    "NLTK's built-in [accuracy](https://www.nltk.org/api/nltk.classify.html#module-nltk.classify.util) utility can run our test_set through the model and compare the labels returned by the model to the labels in the test set, producing an overall % accuracy. Not too impressive, right? We need to improve."
   ]
  },
  {
   "cell_type": "code",
   "execution_count": 8,
   "metadata": {},
   "outputs": [
    {
     "name": "stdout",
     "output_type": "stream",
     "text": [
      "69.75\n"
     ]
    }
   ],
   "source": [
    "from nltk.classify.util import accuracy\n",
    "\n",
    "print(100 * accuracy(model, test_set))"
   ]
  },
  {
   "cell_type": "markdown",
   "metadata": {},
   "source": [
    "### Save the model\n",
    "Our trained model will be cleared from memory when this notebook is closed. So that we can use it again later, save the model as a file using the [pickle](https://docs.python.org/3/library/pickle.html) serializer."
   ]
  },
  {
   "cell_type": "code",
   "execution_count": 9,
   "metadata": {
    "pycharm": {
     "name": "#%%\n"
    }
   },
   "outputs": [],
   "source": [
    "import pickle\n",
    "\n",
    "model_file = open('sa_classifier.pickle','wb')\n",
    "pickle.dump(model, model_file)\n",
    "model_file.close()"
   ]
  },
  {
   "cell_type": "markdown",
   "metadata": {},
   "source": [
    "## Trying a different model"
   ]
  },
  {
   "cell_type": "code",
   "execution_count": 10,
   "metadata": {},
   "outputs": [],
   "source": [
    "import numpy as np\n",
    "import pandas as pd\n",
    "from sklearn.feature_extraction.text import CountVectorizer\n",
    "from sklearn.feature_extraction.text import TfidfVectorizer\n",
    "from sklearn.preprocessing import LabelBinarizer\n",
    "from nltk.corpus import stopwords\n",
    "from nltk.stem.porter import PorterStemmer\n",
    "from nltk.stem import WordNetLemmatizer\n",
    "from nltk.tokenize import word_tokenize,sent_tokenize\n",
    "from nltk.tokenize.toktok import ToktokTokenizer\n",
    "from nltk.stem import LancasterStemmer,WordNetLemmatizer\n",
    "from sklearn.linear_model import LogisticRegression,SGDClassifier\n",
    "from sklearn.naive_bayes import MultinomialNB\n",
    "from sklearn import svm\n",
    "from sklearn.metrics import classification_report,confusion_matrix,accuracy_score\n",
    "import time"
   ]
  },
  {
   "cell_type": "markdown",
   "metadata": {},
   "source": [
    "### Turn data set into dataframe"
   ]
  },
  {
   "cell_type": "code",
   "execution_count": 11,
   "metadata": {},
   "outputs": [],
   "source": [
    "from nltk.corpus import movie_reviews as mr\n",
    "\n",
    "reviews = []\n",
    "for fileid in mr.fileids():\n",
    "    tag, filename = fileid.split('/')\n",
    "    reviews.append((mr.raw(fileid), tag))\n",
    "\n",
    "df = pd.DataFrame(reviews, columns=['review', 'sentiment'])\n",
    "df = df.sample(frac=1).reset_index(drop=True)"
   ]
  },
  {
   "cell_type": "code",
   "execution_count": 12,
   "metadata": {},
   "outputs": [
    {
     "data": {
      "text/html": [
       "<div>\n",
       "<style scoped>\n",
       "    .dataframe tbody tr th:only-of-type {\n",
       "        vertical-align: middle;\n",
       "    }\n",
       "\n",
       "    .dataframe tbody tr th {\n",
       "        vertical-align: top;\n",
       "    }\n",
       "\n",
       "    .dataframe thead th {\n",
       "        text-align: right;\n",
       "    }\n",
       "</style>\n",
       "<table border=\"1\" class=\"dataframe\">\n",
       "  <thead>\n",
       "    <tr style=\"text-align: right;\">\n",
       "      <th></th>\n",
       "      <th>review</th>\n",
       "      <th>sentiment</th>\n",
       "    </tr>\n",
       "  </thead>\n",
       "  <tbody>\n",
       "    <tr>\n",
       "      <th>count</th>\n",
       "      <td>2000</td>\n",
       "      <td>2000</td>\n",
       "    </tr>\n",
       "    <tr>\n",
       "      <th>unique</th>\n",
       "      <td>2000</td>\n",
       "      <td>2</td>\n",
       "    </tr>\n",
       "    <tr>\n",
       "      <th>top</th>\n",
       "      <td>the last steve martin film i saw , the spanish...</td>\n",
       "      <td>neg</td>\n",
       "    </tr>\n",
       "    <tr>\n",
       "      <th>freq</th>\n",
       "      <td>1</td>\n",
       "      <td>1000</td>\n",
       "    </tr>\n",
       "  </tbody>\n",
       "</table>\n",
       "</div>"
      ],
      "text/plain": [
       "                                                   review sentiment\n",
       "count                                                2000      2000\n",
       "unique                                               2000         2\n",
       "top     the last steve martin film i saw , the spanish...       neg\n",
       "freq                                                    1      1000"
      ]
     },
     "execution_count": 12,
     "metadata": {},
     "output_type": "execute_result"
    }
   ],
   "source": [
    "df.describe()"
   ]
  },
  {
   "cell_type": "code",
   "execution_count": 13,
   "metadata": {},
   "outputs": [
    {
     "data": {
      "text/plain": [
       "neg    1000\n",
       "pos    1000\n",
       "Name: sentiment, dtype: int64"
      ]
     },
     "execution_count": 13,
     "metadata": {},
     "output_type": "execute_result"
    }
   ],
   "source": [
    "df['sentiment'].value_counts()"
   ]
  },
  {
   "cell_type": "markdown",
   "metadata": {},
   "source": [
    "The above create a randomized dataframe of all the movie reviews with two columns, one of the review, the other of the text. Next step is to clean the reviews so that they can be turned into a better model."
   ]
  },
  {
   "cell_type": "markdown",
   "metadata": {},
   "source": [
    "### Text Cleaning\n"
   ]
  },
  {
   "cell_type": "code",
   "execution_count": 14,
   "metadata": {},
   "outputs": [],
   "source": [
    "tokenizer=ToktokTokenizer()\n",
    "stopword_list=nltk.corpus.stopwords.words('english')\n",
    "lemmatizer = WordNetLemmatizer()\n",
    "import re\n",
    "\n",
    "def remove_special_characters(text, remove_digits=True):\n",
    "    pattern=r'[^a-zA-z0-9\\s]'\n",
    "    text=re.sub(pattern,'',text)\n",
    "    return text\n",
    "\n",
    "def simple_lemmer(text):\n",
    "    lemmatizer = WordNetLemmatizer()\n",
    "    word_list = nltk.word_tokenize(text)\n",
    "    lemmatized_output = ' '.join([lemmatizer.lemmatize(w) for w in word_list])\n",
    "    return lemmatized_output\n",
    "\n",
    "def remove_stopwords(text):\n",
    "    tokens = tokenizer.tokenize(text)\n",
    "    tokens = [token.strip() for token in tokens]\n",
    "    filtered_tokens = [token for token in tokens if token not in stopword_list]\n",
    "    filtered_text = ' '.join(filtered_tokens) \n",
    "    return filtered_text\n",
    "\n",
    "df['review'] = df['review'].apply(remove_special_characters)\n",
    "df['review'] = df['review'].apply(simple_lemmer)\n",
    "df['review'] = df['review'].apply(remove_stopwords)"
   ]
  },
  {
   "cell_type": "code",
   "execution_count": 15,
   "metadata": {},
   "outputs": [
    {
     "data": {
      "text/plain": [
       "'contact 1997 movie ive seen five time exact four time big screen even tv impressive film cant said film like independance day thats contact rare example scifi filmmaking story treated importantly special effect u know looking back id4 didnt offer much outside onetime delightful eye candy contact wonderfully presented story deal ellie arroway jodie foster radio astronomer whose preference study involves outdated technique merely listening sound space interest field astronomy developed young age encouraged loving father ted david morse let ellie use small ham radio pick frequency communicate people far away pensacola fl wa course day internet chat room everyone else us modern technology aid search extraterrestrial intelligence program seti acronym ellie prefers pop pair headphone see pick keeping youthful magic intrigue strongly alive ellies strong scientific basis essentially make atheist belief likely influenced death father wa still quite young puerto rico meet palmer joss matthew mcconaughey writer examining effect technology world overall happiness one time seminary student describes man cloth without cloth despite vast difference opinion regarding supreme ellie palmer hit even take time sleep together weak hurried relationship director zemeckis need add plot later meanwhile dr david drumlin tom skerritt ha authority seti find program frivolous waste time money ready pull plug seti funding leaf passionate ellie searching new sponsor eventually finding setup new mexico leaving palmer explanation one night stand remember nm city several month later ellie finally pick strong signal outer space perhaps profound discovery history science signal closely examined many new development spring long drumlin stepping take operation scoffed eventually concluded information signal may blueprint transportation device used teleport earthling vega signal seems originated medium swarm fanatic go deep end scientist clamor new information politician huddle discussion appropriate action take president morphed celluloid reality remember zemeckis couldnt get enough forrest gump werent enough ellies discovery lead nation capital run palmer contact based novel carl sagan deal heavily subject science v religion impressive thing well aspect presented sign bias argument side intelligent solid thoughtprovoking palmer join selection committee choose ambassador vega ellie leading candidate personal conviction play important role love interest question person doesnt believe god truly best representative earth 90 planet doe believe higher power even film wrap uncertain whether meant play advocate religion science even neither modern day society right wrong opinion least speaking politically correctly ambiguity incentive dont get wrong much sound like contact isnt merely theology class rolled reel film highly enjoyable two half hour despite seemingly heavy issue tedious undertaking watch film special effect outstanding though warning highly depreciated small screen even subtle visual effect likely go unnoticed many even impressive one recognizable scifi storytelling rich complete although moment film feel quite pretentious time even hokey easily one best 1997 film one best scifi film ive ever seen zemeckis best since back future u actually know forrest gump wa astronomically overrated zemeckis ha real reason boast'"
      ]
     },
     "execution_count": 15,
     "metadata": {},
     "output_type": "execute_result"
    }
   ],
   "source": [
    "df.iloc[69]['review']"
   ]
  },
  {
   "cell_type": "markdown",
   "metadata": {},
   "source": [
    "### Create the test/train split"
   ]
  },
  {
   "cell_type": "code",
   "execution_count": 16,
   "metadata": {},
   "outputs": [
    {
     "name": "stdout",
     "output_type": "stream",
     "text": [
      "(1600,) (1600,)\n",
      "(400,) (400,)\n"
     ]
    }
   ],
   "source": [
    "# Create Training Set\n",
    "train_reviews=df.review[:1600]\n",
    "train_sentiments=df.sentiment[:1600]\n",
    "\n",
    "# Create Test Set\n",
    "test_reviews=df.review[1600:]\n",
    "test_sentiments=df.sentiment[1600:]\n",
    "\n",
    "# Make sure things are the same\n",
    "print(train_reviews.shape,train_sentiments.shape)\n",
    "print(test_reviews.shape,test_sentiments.shape)"
   ]
  },
  {
   "cell_type": "markdown",
   "metadata": {},
   "source": [
    "Time to turn those reviews into vectors!"
   ]
  },
  {
   "cell_type": "code",
   "execution_count": 17,
   "metadata": {},
   "outputs": [],
   "source": [
    "vectorizer = TfidfVectorizer(min_df = 5,\n",
    "                             max_df = 0.8,\n",
    "                             sublinear_tf = True,\n",
    "                             use_idf = True)\n",
    "\n",
    "train_vectors = vectorizer.fit_transform(train_reviews)\n",
    "test_vectors = vectorizer.transform(test_reviews)"
   ]
  },
  {
   "cell_type": "code",
   "execution_count": 18,
   "metadata": {},
   "outputs": [
    {
     "name": "stdout",
     "output_type": "stream",
     "text": [
      "Training time: 6.123248s; Prediction time: 1.193776s\n",
      "positive:  {'precision': 0.9057591623036649, 'recall': 0.8398058252427184, 'f1-score': 0.8715365239294711, 'support': 206}\n",
      "negative:  {'precision': 0.8421052631578947, 'recall': 0.9072164948453608, 'f1-score': 0.8734491315136477, 'support': 194}\n"
     ]
    }
   ],
   "source": [
    "classifier_linear = svm.SVC(kernel='linear')\n",
    "t0 = time.time()\n",
    "classifier_linear.fit(train_vectors, train_sentiments)\n",
    "t1 = time.time()\n",
    "prediction_linear = classifier_linear.predict(test_vectors)\n",
    "t2 = time.time()\n",
    "time_linear_train = t1-t0\n",
    "time_linear_predict = t2-t1\n",
    "\n",
    "print(\"Training time: %fs; Prediction time: %fs\" % (time_linear_train, time_linear_predict))\n",
    "\n",
    "report = classification_report(test_sentiments, prediction_linear, output_dict=True)\n",
    "print('positive: ', report['pos'])\n",
    "\n",
    "print('negative: ', report['neg'])"
   ]
  },
  {
   "cell_type": "code",
   "execution_count": 19,
   "metadata": {},
   "outputs": [],
   "source": [
    "# pickle the vectorizer \n",
    "\n",
    "pickle.dump(vectorizer, open('vectorizer.pickle', 'wb'))\n",
    "\n",
    "# pickle the model \n",
    "\n",
    "pickle.dump(classifier_linear, open('classifier.pickle', 'wb'))"
   ]
  },
  {
   "cell_type": "markdown",
   "metadata": {},
   "source": [
    "### Save the model (Colab version)\n",
    "\n",
    "Google Colab doesn't provide direct access to files saved during a notebook session, so we need to save it in [Google Drive](https://drive.google.com) instead. The first time you run this, it will ask for permission to access your Google Drive. Follow the instructions, then wait a few minutes and look for a new folder called \"Colab Output\" in [Drive](https://drive.google.com). Note that Colab does not alway sync to Drive immediately, so check the file update times and re-run this cell if it doesn't look like you have the most revent version of your file."
   ]
  },
  {
   "cell_type": "code",
   "execution_count": null,
   "metadata": {},
   "outputs": [],
   "source": [
    "import sys\n",
    "if 'google.colab' in sys.modules:\n",
    "    from google.colab import drive\n",
    "    drive.mount('/content/gdrive')\n",
    "    !mkdir -p '/content/gdrive/My Drive/Colab Output'\n",
    "    model_file = open('/content/gdrive/My Drive/Colab Output/sa_classifier.pickle','wb')\n",
    "    pickle.dump(model, model_file)\n",
    "    model_file.flush()\n",
    "    print('Model saved in /content/gdrive/My Drive/Colab Output')\n",
    "    !ls '/content/gdrive/My Drive/Colab Output'\n",
    "    drive.flush_and_unmount()\n",
    "    print('Re-run this cell if you cannot find it in https://drive.google.com')"
   ]
  }
 ],
 "metadata": {
  "anaconda-cloud": {},
  "kernelspec": {
   "display_name": "Python 3",
   "language": "python",
   "name": "python3"
  },
  "language_info": {
   "codemirror_mode": {
    "name": "ipython",
    "version": 3
   },
   "file_extension": ".py",
   "mimetype": "text/x-python",
   "name": "python",
   "nbconvert_exporter": "python",
   "pygments_lexer": "ipython3",
   "version": "3.7.6"
  },
  "pycharm": {
   "stem_cell": {
    "cell_type": "raw",
    "metadata": {
     "collapsed": false
    },
    "source": []
   }
  }
 },
 "nbformat": 4,
 "nbformat_minor": 1
}
