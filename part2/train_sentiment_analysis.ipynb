{
 "cells": [
  {
   "cell_type": "markdown",
   "metadata": {
    "pycharm": {
     "name": "#%% md\n"
    }
   },
   "source": [
    "## Part 2: Training your own ML Model\n",
    "\n",
    "<a href=\"https://colab.research.google.com/github/peckjon/hosting-ml-as-microservice/blob/master/part2/train_sentiment_analysis.ipynb\" target=\"_parent\"><img src=\"https://colab.research.google.com/assets/colab-badge.svg\" alt=\"Open In Colab\"/></a>"
   ]
  },
  {
   "cell_type": "markdown",
   "metadata": {},
   "source": [
    "### Download corpuses\n",
    "\n",
    "We'll continue using the `movie_reviews` corpus to train our model. The `stopwords` corpus contains a [set of standard stopwords](https://gist.github.com/sebleier/554280) we'll want to remove from the input, and `punkt` is used for toneization in the [.words()](https://www.nltk.org/api/nltk.corpus.html#corpus-reader-functions) method of the corpus reader."
   ]
  },
  {
   "cell_type": "code",
   "execution_count": 1,
   "metadata": {
    "pycharm": {
     "name": "#%%\n"
    }
   },
   "outputs": [
    {
     "name": "stderr",
     "output_type": "stream",
     "text": [
      "[nltk_data] Downloading package movie_reviews to\n",
      "[nltk_data]     C:\\Users\\pbrad\\AppData\\Roaming\\nltk_data...\n",
      "[nltk_data]   Package movie_reviews is already up-to-date!\n",
      "[nltk_data] Downloading package punkt to\n",
      "[nltk_data]     C:\\Users\\pbrad\\AppData\\Roaming\\nltk_data...\n",
      "[nltk_data]   Package punkt is already up-to-date!\n",
      "[nltk_data] Downloading package stopwords to\n",
      "[nltk_data]     C:\\Users\\pbrad\\AppData\\Roaming\\nltk_data...\n",
      "[nltk_data]   Package stopwords is already up-to-date!\n"
     ]
    },
    {
     "data": {
      "text/plain": [
       "True"
      ]
     },
     "execution_count": 1,
     "metadata": {},
     "output_type": "execute_result"
    }
   ],
   "source": [
    "import nltk\n",
    "\n",
    "nltk.download('movie_reviews')\n",
    "nltk.download('punkt')\n",
    "nltk.download('stopwords')"
   ]
  },
  {
   "cell_type": "markdown",
   "metadata": {},
   "source": [
    "### Define feature extractor and bag-of-words converter\n",
    "\n",
    "Given a list of (already tokenized) words, we need a function to extract just the ones we care about: those not found in the list of English stopwords or standard punctuation.\n",
    "\n",
    "We also need a way to easily turn a list of words into a [bag-of-words](https://en.wikipedia.org/wiki/Bag-of-words_model), pairing each word with the count of its occurrences."
   ]
  },
  {
   "cell_type": "code",
   "execution_count": 2,
   "metadata": {},
   "outputs": [],
   "source": [
    "from nltk.corpus import stopwords\n",
    "from string import punctuation\n",
    "\n",
    "stopwords_eng = stopwords.words('english')\n",
    "\n",
    "def extract_features(words):\n",
    "    return [w for w in words if w not in stopwords_eng and w not in punctuation]\n",
    "\n",
    "def bag_of_words(words):\n",
    "    bag = {}\n",
    "    for w in words:\n",
    "        bag[w] = bag.get(w,0)+1\n",
    "    return bag"
   ]
  },
  {
   "cell_type": "markdown",
   "metadata": {},
   "source": [
    "### Ingest, clean, and convert the positive and negative reviews\n",
    "\n",
    "For both the positive (\"pos\") and negative (\"neg\") sets of reviews, extract the features and convert to bag of words. From these, we construct a list of tuples known as a \"featureset\": the first part of each tuple is the bag of words for that review, and the second is its label (\"pos\"/\"neg\").\n",
    "\n",
    "Note that `movie_reviews.words(fileid)` provides a tokenized list of words. If we wanted the un-tokenized text, we would use `movie_reviews.raw(fileid)` instead, then tokenize it using our preferred tokenizeer (e.g. [nltk.tokenize.word_tokenize](https://www.nltk.org/api/nltk.tokenize.html#nltk.tokenize.punkt.PunktLanguageVars.word_tokenize))."
   ]
  },
  {
   "cell_type": "code",
   "execution_count": 3,
   "metadata": {},
   "outputs": [],
   "source": [
    "from nltk.corpus import movie_reviews\n",
    "\n",
    "reviews_pos = []\n",
    "reviews_neg = []\n",
    "for fileid in movie_reviews.fileids('pos'):\n",
    "    words = extract_features(movie_reviews.words(fileid))\n",
    "    reviews_pos.append((bag_of_words(words), 'pos'))\n",
    "for fileid in movie_reviews.fileids('neg'):\n",
    "    words = extract_features(movie_reviews.words(fileid))\n",
    "    reviews_neg.append((bag_of_words(words), 'neg'))"
   ]
  },
  {
   "cell_type": "code",
   "execution_count": 4,
   "metadata": {},
   "outputs": [
    {
     "data": {
      "text/plain": [
       "'pos'"
      ]
     },
     "execution_count": 4,
     "metadata": {},
     "output_type": "execute_result"
    }
   ],
   "source": [
    "reviews_pos[123][1]"
   ]
  },
  {
   "cell_type": "markdown",
   "metadata": {},
   "source": [
    "### Split reviews into training and test sets\n",
    "We need to break up each group of reviews into a training set (about 80%) and a test set (the remaining 20%). In case there's some meaningful order to the reviews (e.g. the first 800 are from one group of reviewers, the next 200 are from another), we shuffle the sets first to ensure we aren't introducing additional bias. Note that this means our accuracy will not be exactly the same on every run; if you wish to see consistent results on each run, you can stabilize the shuffle by calling [random.seed(n)](https://www.geeksforgeeks.org/random-seed-in-python/) first."
   ]
  },
  {
   "cell_type": "code",
   "execution_count": 5,
   "metadata": {},
   "outputs": [],
   "source": [
    "from random import shuffle\n",
    "\n",
    "split_pct = .80\n",
    "\n",
    "def split_set(review_set):\n",
    "    split = int(len(review_set)*split_pct)\n",
    "    return (review_set[:split], review_set[split:])\n",
    "\n",
    "shuffle(reviews_pos)\n",
    "shuffle(reviews_neg)\n",
    "\n",
    "pos_train, pos_test = split_set(reviews_pos)\n",
    "neg_train, neg_test = split_set(reviews_neg)\n",
    "\n",
    "train_set = pos_train+neg_train\n",
    "test_set = pos_test+neg_test"
   ]
  },
  {
   "cell_type": "code",
   "execution_count": 6,
   "metadata": {},
   "outputs": [
    {
     "data": {
      "text/plain": [
       "({'commercials': 1,\n",
       "  'looks': 1,\n",
       "  'like': 1,\n",
       "  'mild': 1,\n",
       "  'mannered': 1,\n",
       "  'neil': 1,\n",
       "  'simonesque': 1,\n",
       "  'tale': 1,\n",
       "  'mary': 1,\n",
       "  'tyler': 1,\n",
       "  'moore': 2,\n",
       "  'baring': 1,\n",
       "  'bra': 1,\n",
       "  'touted': 1,\n",
       "  'highlight': 1,\n",
       "  'instead': 1,\n",
       "  'turns': 1,\n",
       "  'hilarious': 1,\n",
       "  'film': 2,\n",
       "  'running': 1,\n",
       "  'high': 1,\n",
       "  'gear': 1,\n",
       "  'beginning': 1,\n",
       "  'end': 3,\n",
       "  'concept': 1,\n",
       "  'deceptively': 1,\n",
       "  'pedestrian': 1,\n",
       "  'adult': 1,\n",
       "  'adopted': 1,\n",
       "  'son': 2,\n",
       "  'looking': 1,\n",
       "  'biological': 2,\n",
       "  'parents': 3,\n",
       "  'encounters': 1,\n",
       "  'eccentric': 1,\n",
       "  'characters': 1,\n",
       "  'along': 1,\n",
       "  'way': 1,\n",
       "  'movie': 1,\n",
       "  'demonstrates': 1,\n",
       "  'far': 1,\n",
       "  'good': 1,\n",
       "  'script': 1,\n",
       "  'actors': 1,\n",
       "  'take': 2,\n",
       "  'mundane': 1,\n",
       "  'idea': 1,\n",
       "  'wife': 1,\n",
       "  'search': 1,\n",
       "  'accompanied': 1,\n",
       "  'woman': 2,\n",
       "  'agency': 1,\n",
       "  'located': 1,\n",
       "  'following': 1,\n",
       "  'one': 3,\n",
       "  'dead': 1,\n",
       "  'lead': 1,\n",
       "  'another': 1,\n",
       "  'funnier': 1,\n",
       "  'previous': 1,\n",
       "  'eventually': 1,\n",
       "  'new': 1,\n",
       "  'mexico': 1,\n",
       "  'real': 1,\n",
       "  'alan': 1,\n",
       "  'alda': 2,\n",
       "  'lily': 1,\n",
       "  'tomlin': 2,\n",
       "  'difficult': 1,\n",
       "  'condense': 1,\n",
       "  'mile': 1,\n",
       "  'minute': 1,\n",
       "  'plot': 1,\n",
       "  'seemingly': 1,\n",
       "  'hundreds': 1,\n",
       "  'scenes': 1,\n",
       "  'jump': 1,\n",
       "  'top': 1,\n",
       "  'without': 2,\n",
       "  'giving': 2,\n",
       "  'chance': 1,\n",
       "  'recover': 1,\n",
       "  'last': 1,\n",
       "  'much': 1,\n",
       "  'away': 1,\n",
       "  'better': 1,\n",
       "  'episodes': 1,\n",
       "  'involves': 1,\n",
       "  'gay': 1,\n",
       "  'federal': 1,\n",
       "  'alcohol': 1,\n",
       "  'tobacco': 1,\n",
       "  'firearms': 1,\n",
       "  'agent': 1,\n",
       "  'attempting': 1,\n",
       "  'arrest': 1,\n",
       "  'tripping': 1,\n",
       "  'lsd': 1,\n",
       "  'bi': 1,\n",
       "  'sexual': 1,\n",
       "  'partner': 1,\n",
       "  'upstairs': 1,\n",
       "  'licking': 1,\n",
       "  'armpit': 1,\n",
       "  'husband': 1,\n",
       "  'next': 1,\n",
       "  'room': 1,\n",
       "  'seducing': 1,\n",
       "  'traveling': 1,\n",
       "  'companion': 1,\n",
       "  'done': 1,\n",
       "  'fairly': 1,\n",
       "  'clean': 1,\n",
       "  'almost': 1,\n",
       "  'well': 1,\n",
       "  'maybe': 1,\n",
       "  'exactly': 1,\n",
       "  'family': 1,\n",
       "  'fare': 1,\n",
       "  'manner': 1,\n",
       "  'grand': 1,\n",
       "  'cast': 1,\n",
       "  'ben': 1,\n",
       "  'stiller': 1,\n",
       "  'patricia': 1,\n",
       "  'arquette': 1,\n",
       "  'tea': 1,\n",
       "  'leoni': 1,\n",
       "  'george': 1,\n",
       "  'segal': 1,\n",
       "  'interacts': 1,\n",
       "  'seamless': 1,\n",
       "  'parade': 1,\n",
       "  'laughs': 1,\n",
       "  'drawing': 1,\n",
       "  'hyper': 1,\n",
       "  'woody': 1,\n",
       "  'allen': 1,\n",
       "  'style': 1,\n",
       "  'succeeds': 1,\n",
       "  'beyond': 1,\n",
       "  'expectations': 1},\n",
       " 'pos')"
      ]
     },
     "execution_count": 6,
     "metadata": {},
     "output_type": "execute_result"
    }
   ],
   "source": [
    "test_set[1]"
   ]
  },
  {
   "cell_type": "markdown",
   "metadata": {},
   "source": [
    "### Train the model\n",
    "\n",
    "Now that our data is ready, the training step itself is quite simple if we use the [NaiveBayesClassifier](https://www.nltk.org/api/nltk.classify.html#module-nltk.classify.naivebayes) provided by NLTK.\n",
    "\n",
    "If you are used to methods such as `model.fit(x,y)` which take two parameters -- the data and the labels -- it may be confusing that `NaiveBayesClassifier.train` takes just one argument. This is because the labels are already embedded in `train_set`: each element in the set is a Bag of Words paired with a 'pos' or 'neg'; value."
   ]
  },
  {
   "cell_type": "code",
   "execution_count": 7,
   "metadata": {},
   "outputs": [],
   "source": [
    "from nltk.classify import NaiveBayesClassifier\n",
    "\n",
    "model = NaiveBayesClassifier.train(train_set)"
   ]
  },
  {
   "cell_type": "markdown",
   "metadata": {},
   "source": [
    "### Check model accuracy\n",
    "\n",
    "NLTK's built-in [accuracy](https://www.nltk.org/api/nltk.classify.html#module-nltk.classify.util) utility can run our test_set through the model and compare the labels returned by the model to the labels in the test set, producing an overall % accuracy. Not too impressive, right? We need to improve."
   ]
  },
  {
   "cell_type": "code",
   "execution_count": 8,
   "metadata": {},
   "outputs": [
    {
     "name": "stdout",
     "output_type": "stream",
     "text": [
      "69.75\n"
     ]
    }
   ],
   "source": [
    "from nltk.classify.util import accuracy\n",
    "\n",
    "print(100 * accuracy(model, test_set))"
   ]
  },
  {
   "cell_type": "markdown",
   "metadata": {},
   "source": [
    "### Save the model\n",
    "Our trained model will be cleared from memory when this notebook is closed. So that we can use it again later, save the model as a file using the [pickle](https://docs.python.org/3/library/pickle.html) serializer."
   ]
  },
  {
   "cell_type": "code",
   "execution_count": 9,
   "metadata": {
    "pycharm": {
     "name": "#%%\n"
    }
   },
   "outputs": [],
   "source": [
    "import pickle\n",
    "\n",
    "model_file = open('sa_classifier.pickle','wb')\n",
    "pickle.dump(model, model_file)\n",
    "model_file.close()"
   ]
  },
  {
   "cell_type": "markdown",
   "metadata": {},
   "source": [
    "## Trying a different model"
   ]
  },
  {
   "cell_type": "code",
   "execution_count": 7,
   "metadata": {},
   "outputs": [],
   "source": [
    "import numpy as np\n",
    "import pandas as pd\n",
    "from sklearn.feature_extraction.text import CountVectorizer\n",
    "from sklearn.feature_extraction.text import TfidfVectorizer\n",
    "from sklearn.preprocessing import LabelBinarizer\n",
    "from nltk.corpus import stopwords\n",
    "from nltk.stem.porter import PorterStemmer\n",
    "from nltk.stem import WordNetLemmatizer\n",
    "from nltk.tokenize import word_tokenize,sent_tokenize\n",
    "from nltk.tokenize.toktok import ToktokTokenizer\n",
    "from nltk.stem import LancasterStemmer,WordNetLemmatizer\n",
    "from sklearn.linear_model import LogisticRegression,SGDClassifier\n",
    "from sklearn.naive_bayes import MultinomialNB\n",
    "from sklearn import svm\n",
    "from sklearn.metrics import classification_report,confusion_matrix,accuracy_score\n",
    "import time"
   ]
  },
  {
   "cell_type": "markdown",
   "metadata": {},
   "source": [
    "### Turn data set into dataframe"
   ]
  },
  {
   "cell_type": "code",
   "execution_count": 8,
   "metadata": {},
   "outputs": [],
   "source": [
    "from nltk.corpus import movie_reviews as mr\n",
    "\n",
    "reviews = []\n",
    "for fileid in mr.fileids():\n",
    "    tag, filename = fileid.split('/')\n",
    "    reviews.append((mr.raw(fileid), tag))\n",
    "\n",
    "df = pd.DataFrame(reviews, columns=['review', 'sentiment'])\n",
    "df = df.sample(frac=1).reset_index(drop=True)"
   ]
  },
  {
   "cell_type": "code",
   "execution_count": 9,
   "metadata": {},
   "outputs": [
    {
     "data": {
      "text/html": [
       "<div>\n",
       "<style scoped>\n",
       "    .dataframe tbody tr th:only-of-type {\n",
       "        vertical-align: middle;\n",
       "    }\n",
       "\n",
       "    .dataframe tbody tr th {\n",
       "        vertical-align: top;\n",
       "    }\n",
       "\n",
       "    .dataframe thead th {\n",
       "        text-align: right;\n",
       "    }\n",
       "</style>\n",
       "<table border=\"1\" class=\"dataframe\">\n",
       "  <thead>\n",
       "    <tr style=\"text-align: right;\">\n",
       "      <th></th>\n",
       "      <th>review</th>\n",
       "      <th>sentiment</th>\n",
       "    </tr>\n",
       "  </thead>\n",
       "  <tbody>\n",
       "    <tr>\n",
       "      <th>count</th>\n",
       "      <td>2000</td>\n",
       "      <td>2000</td>\n",
       "    </tr>\n",
       "    <tr>\n",
       "      <th>unique</th>\n",
       "      <td>2000</td>\n",
       "      <td>2</td>\n",
       "    </tr>\n",
       "    <tr>\n",
       "      <th>top</th>\n",
       "      <td>a number of critics have decided that it's ope...</td>\n",
       "      <td>neg</td>\n",
       "    </tr>\n",
       "    <tr>\n",
       "      <th>freq</th>\n",
       "      <td>1</td>\n",
       "      <td>1000</td>\n",
       "    </tr>\n",
       "  </tbody>\n",
       "</table>\n",
       "</div>"
      ],
      "text/plain": [
       "                                                   review sentiment\n",
       "count                                                2000      2000\n",
       "unique                                               2000         2\n",
       "top     a number of critics have decided that it's ope...       neg\n",
       "freq                                                    1      1000"
      ]
     },
     "execution_count": 9,
     "metadata": {},
     "output_type": "execute_result"
    }
   ],
   "source": [
    "df.describe()"
   ]
  },
  {
   "cell_type": "code",
   "execution_count": 10,
   "metadata": {},
   "outputs": [
    {
     "data": {
      "text/plain": [
       "neg    1000\n",
       "pos    1000\n",
       "Name: sentiment, dtype: int64"
      ]
     },
     "execution_count": 10,
     "metadata": {},
     "output_type": "execute_result"
    }
   ],
   "source": [
    "df['sentiment'].value_counts()"
   ]
  },
  {
   "cell_type": "markdown",
   "metadata": {},
   "source": [
    "The above create a randomized dataframe of all the movie reviews with two columns, one of the review, the other of the text. Next step is to clean the reviews so that they can be turned into a better model."
   ]
  },
  {
   "cell_type": "markdown",
   "metadata": {},
   "source": [
    "### Text Cleaning\n"
   ]
  },
  {
   "cell_type": "code",
   "execution_count": 14,
   "metadata": {},
   "outputs": [],
   "source": [
    "tokenizer=ToktokTokenizer()\n",
    "stopword_list=nltk.corpus.stopwords.words('english')\n",
    "lemmatizer = WordNetLemmatizer()\n",
    "import re\n",
    "\n",
    "def remove_special_characters(text, remove_digits=True):\n",
    "    pattern=r'[^a-zA-z0-9\\s]'\n",
    "    text=re.sub(pattern,'',text)\n",
    "    return text\n",
    "\n",
    "def simple_lemmer(text):\n",
    "    lemmatizer = WordNetLemmatizer()\n",
    "    word_list = nltk.word_tokenize(text)\n",
    "    lemmatized_output = ' '.join([lemmatizer.lemmatize(w) for w in word_list])\n",
    "    return lemmatized_output\n",
    "\n",
    "def remove_stopwords(text):\n",
    "    tokens = tokenizer.tokenize(text)\n",
    "    tokens = [token.strip() for token in tokens]\n",
    "    filtered_tokens = [token for token in tokens if token not in stopword_list]\n",
    "    filtered_text = ' '.join(filtered_tokens) \n",
    "    return filtered_text\n",
    "\n",
    "df['review'] = df['review'].apply(remove_special_characters)\n",
    "df['review'] = df['review'].apply(simple_lemmer)\n",
    "df['review'] = df['review'].apply(remove_stopwords)"
   ]
  },
  {
   "cell_type": "code",
   "execution_count": 15,
   "metadata": {},
   "outputs": [
    {
     "data": {
      "text/plain": [
       "'contact 1997 movie ive seen five time exact four time big screen even tv impressive film cant said film like independance day thats contact rare example scifi filmmaking story treated importantly special effect u know looking back id4 didnt offer much outside onetime delightful eye candy contact wonderfully presented story deal ellie arroway jodie foster radio astronomer whose preference study involves outdated technique merely listening sound space interest field astronomy developed young age encouraged loving father ted david morse let ellie use small ham radio pick frequency communicate people far away pensacola fl wa course day internet chat room everyone else us modern technology aid search extraterrestrial intelligence program seti acronym ellie prefers pop pair headphone see pick keeping youthful magic intrigue strongly alive ellies strong scientific basis essentially make atheist belief likely influenced death father wa still quite young puerto rico meet palmer joss matthew mcconaughey writer examining effect technology world overall happiness one time seminary student describes man cloth without cloth despite vast difference opinion regarding supreme ellie palmer hit even take time sleep together weak hurried relationship director zemeckis need add plot later meanwhile dr david drumlin tom skerritt ha authority seti find program frivolous waste time money ready pull plug seti funding leaf passionate ellie searching new sponsor eventually finding setup new mexico leaving palmer explanation one night stand remember nm city several month later ellie finally pick strong signal outer space perhaps profound discovery history science signal closely examined many new development spring long drumlin stepping take operation scoffed eventually concluded information signal may blueprint transportation device used teleport earthling vega signal seems originated medium swarm fanatic go deep end scientist clamor new information politician huddle discussion appropriate action take president morphed celluloid reality remember zemeckis couldnt get enough forrest gump werent enough ellies discovery lead nation capital run palmer contact based novel carl sagan deal heavily subject science v religion impressive thing well aspect presented sign bias argument side intelligent solid thoughtprovoking palmer join selection committee choose ambassador vega ellie leading candidate personal conviction play important role love interest question person doesnt believe god truly best representative earth 90 planet doe believe higher power even film wrap uncertain whether meant play advocate religion science even neither modern day society right wrong opinion least speaking politically correctly ambiguity incentive dont get wrong much sound like contact isnt merely theology class rolled reel film highly enjoyable two half hour despite seemingly heavy issue tedious undertaking watch film special effect outstanding though warning highly depreciated small screen even subtle visual effect likely go unnoticed many even impressive one recognizable scifi storytelling rich complete although moment film feel quite pretentious time even hokey easily one best 1997 film one best scifi film ive ever seen zemeckis best since back future u actually know forrest gump wa astronomically overrated zemeckis ha real reason boast'"
      ]
     },
     "execution_count": 15,
     "metadata": {},
     "output_type": "execute_result"
    }
   ],
   "source": [
    "df.iloc[69]['review']"
   ]
  },
  {
   "cell_type": "markdown",
   "metadata": {},
   "source": [
    "### Create the test/train split"
   ]
  },
  {
   "cell_type": "code",
   "execution_count": 16,
   "metadata": {},
   "outputs": [
    {
     "name": "stdout",
     "output_type": "stream",
     "text": [
      "(1600,) (1600,)\n",
      "(400,) (400,)\n"
     ]
    }
   ],
   "source": [
    "# Create Training Set\n",
    "train_reviews=df.review[:1600]\n",
    "train_sentiments=df.sentiment[:1600]\n",
    "\n",
    "# Create Test Set\n",
    "test_reviews=df.review[1600:]\n",
    "test_sentiments=df.sentiment[1600:]\n",
    "\n",
    "# Make sure things are the same\n",
    "print(train_reviews.shape,train_sentiments.shape)\n",
    "print(test_reviews.shape,test_sentiments.shape)"
   ]
  },
  {
   "cell_type": "markdown",
   "metadata": {},
   "source": [
    "Time to turn those reviews into vectors!"
   ]
  },
  {
   "cell_type": "code",
   "execution_count": 17,
   "metadata": {},
   "outputs": [],
   "source": [
    "vectorizer = TfidfVectorizer(min_df = 5,\n",
    "                             max_df = 0.8,\n",
    "                             sublinear_tf = True,\n",
    "                             use_idf = True)\n",
    "\n",
    "train_vectors = vectorizer.fit_transform(train_reviews)\n",
    "test_vectors = vectorizer.transform(test_reviews)"
   ]
  },
  {
   "cell_type": "code",
   "execution_count": 18,
   "metadata": {},
   "outputs": [
    {
     "name": "stdout",
     "output_type": "stream",
     "text": [
      "Training time: 6.123248s; Prediction time: 1.193776s\n",
      "positive:  {'precision': 0.9057591623036649, 'recall': 0.8398058252427184, 'f1-score': 0.8715365239294711, 'support': 206}\n",
      "negative:  {'precision': 0.8421052631578947, 'recall': 0.9072164948453608, 'f1-score': 0.8734491315136477, 'support': 194}\n"
     ]
    }
   ],
   "source": [
    "classifier_linear = svm.SVC(kernel='linear')\n",
    "t0 = time.time()\n",
    "classifier_linear.fit(train_vectors, train_sentiments)\n",
    "t1 = time.time()\n",
    "prediction_linear = classifier_linear.predict(test_vectors)\n",
    "t2 = time.time()\n",
    "time_linear_train = t1-t0\n",
    "time_linear_predict = t2-t1\n",
    "\n",
    "print(\"Training time: %fs; Prediction time: %fs\" % (time_linear_train, time_linear_predict))\n",
    "\n",
    "report = classification_report(test_sentiments, prediction_linear, output_dict=True)\n",
    "print('positive: ', report['pos'])\n",
    "\n",
    "print('negative: ', report['neg'])"
   ]
  },
  {
   "cell_type": "code",
   "execution_count": 20,
   "metadata": {},
   "outputs": [],
   "source": [
    "# pickle the vectorizer \n",
    "\n",
    "pickle.dump(vectorizer, open('vectorizer.pickle', 'wb'))\n",
    "\n",
    "# pickle the model \n",
    "\n",
    "pickle.dump(classifier_linear, open('better_sa_classifier.pickle', 'wb'))"
   ]
  },
  {
   "cell_type": "markdown",
   "metadata": {},
   "source": [
    "### Save the model (Colab version)\n",
    "\n",
    "Google Colab doesn't provide direct access to files saved during a notebook session, so we need to save it in [Google Drive](https://drive.google.com) instead. The first time you run this, it will ask for permission to access your Google Drive. Follow the instructions, then wait a few minutes and look for a new folder called \"Colab Output\" in [Drive](https://drive.google.com). Note that Colab does not alway sync to Drive immediately, so check the file update times and re-run this cell if it doesn't look like you have the most revent version of your file."
   ]
  },
  {
   "cell_type": "code",
   "execution_count": null,
   "metadata": {},
   "outputs": [],
   "source": [
    "import sys\n",
    "if 'google.colab' in sys.modules:\n",
    "    from google.colab import drive\n",
    "    drive.mount('/content/gdrive')\n",
    "    !mkdir -p '/content/gdrive/My Drive/Colab Output'\n",
    "    model_file = open('/content/gdrive/My Drive/Colab Output/sa_classifier.pickle','wb')\n",
    "    pickle.dump(model, model_file)\n",
    "    model_file.flush()\n",
    "    print('Model saved in /content/gdrive/My Drive/Colab Output')\n",
    "    !ls '/content/gdrive/My Drive/Colab Output'\n",
    "    drive.flush_and_unmount()\n",
    "    print('Re-run this cell if you cannot find it in https://drive.google.com')"
   ]
  }
 ],
 "metadata": {
  "anaconda-cloud": {},
  "kernelspec": {
   "display_name": "Python 3",
   "language": "python",
   "name": "python3"
  },
  "language_info": {
   "codemirror_mode": {
    "name": "ipython",
    "version": 3
   },
   "file_extension": ".py",
   "mimetype": "text/x-python",
   "name": "python",
   "nbconvert_exporter": "python",
   "pygments_lexer": "ipython3",
   "version": "3.7.6"
  },
  "pycharm": {
   "stem_cell": {
    "cell_type": "raw",
    "metadata": {
     "collapsed": false
    },
    "source": []
   }
  }
 },
 "nbformat": 4,
 "nbformat_minor": 1
}
