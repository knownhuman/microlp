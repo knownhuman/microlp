{
 "cells": [
  {
   "cell_type": "markdown",
   "metadata": {
    "pycharm": {
     "name": "#%% md\n"
    }
   },
   "source": [
    "## Part 2: Training your own ML Model\n",
    "\n",
    "<a href=\"https://colab.research.google.com/github/peckjon/hosting-ml-as-microservice/blob/master/part2/train_sentiment_analysis.ipynb\" target=\"_parent\"><img src=\"https://colab.research.google.com/assets/colab-badge.svg\" alt=\"Open In Colab\"/></a>"
   ]
  },
  {
   "cell_type": "markdown",
   "metadata": {},
   "source": [
    "### Download corpuses\n",
    "\n",
    "We'll continue using the `movie_reviews` corpus to train our model. The `stopwords` corpus contains a [set of standard stopwords](https://gist.github.com/sebleier/554280) we'll want to remove from the input, and `punkt` is used for toneization in the [.words()](https://www.nltk.org/api/nltk.corpus.html#corpus-reader-functions) method of the corpus reader."
   ]
  },
  {
   "cell_type": "code",
   "execution_count": 1,
   "metadata": {
    "pycharm": {
     "name": "#%%\n"
    }
   },
   "outputs": [
    {
     "name": "stderr",
     "output_type": "stream",
     "text": [
      "[nltk_data] Downloading package movie_reviews to\n",
      "[nltk_data]     C:\\Users\\pbrad\\AppData\\Roaming\\nltk_data...\n",
      "[nltk_data]   Unzipping corpora\\movie_reviews.zip.\n",
      "[nltk_data] Downloading package punkt to\n",
      "[nltk_data]     C:\\Users\\pbrad\\AppData\\Roaming\\nltk_data...\n",
      "[nltk_data]   Unzipping tokenizers\\punkt.zip.\n",
      "[nltk_data] Downloading package stopwords to\n",
      "[nltk_data]     C:\\Users\\pbrad\\AppData\\Roaming\\nltk_data...\n",
      "[nltk_data]   Unzipping corpora\\stopwords.zip.\n"
     ]
    },
    {
     "data": {
      "text/plain": [
       "True"
      ]
     },
     "execution_count": 1,
     "metadata": {},
     "output_type": "execute_result"
    }
   ],
   "source": [
    "import nltk\n",
    "\n",
    "nltk.download('movie_reviews')\n",
    "nltk.download('punkt')\n",
    "nltk.download('stopwords')"
   ]
  },
  {
   "cell_type": "markdown",
   "metadata": {},
   "source": [
    "### Define feature extractor and bag-of-words converter\n",
    "\n",
    "Given a list of (already tokenized) words, we need a function to extract just the ones we care about: those not found in the list of English stopwords or standard punctuation.\n",
    "\n",
    "We also need a way to easily turn a list of words into a [bag-of-words](https://en.wikipedia.org/wiki/Bag-of-words_model), pairing each word with the count of its occurrences."
   ]
  },
  {
   "cell_type": "code",
   "execution_count": 2,
   "metadata": {},
   "outputs": [],
   "source": [
    "from nltk.corpus import stopwords\n",
    "from string import punctuation\n",
    "\n",
    "stopwords_eng = stopwords.words('english')\n",
    "\n",
    "def extract_features(words):\n",
    "    return [w for w in words if w not in stopwords_eng and w not in punctuation]\n",
    "\n",
    "def bag_of_words(words):\n",
    "    bag = {}\n",
    "    for w in words:\n",
    "        bag[w] = bag.get(w,0)+1\n",
    "    return bag"
   ]
  },
  {
   "cell_type": "markdown",
   "metadata": {},
   "source": [
    "### Ingest, clean, and convert the positive and negative reviews\n",
    "\n",
    "For both the positive (\"pos\") and negative (\"neg\") sets of reviews, extract the features and convert to bag of words. From these, we construct a list of tuples known as a \"featureset\": the first part of each tuple is the bag of words for that review, and the second is its label (\"pos\"/\"neg\").\n",
    "\n",
    "Note that `movie_reviews.words(fileid)` provides a tokenized list of words. If we wanted the un-tokenized text, we would use `movie_reviews.raw(fileid)` instead, then tokenize it using our preferred tokenizeer (e.g. [nltk.tokenize.word_tokenize](https://www.nltk.org/api/nltk.tokenize.html#nltk.tokenize.punkt.PunktLanguageVars.word_tokenize))."
   ]
  },
  {
   "cell_type": "code",
   "execution_count": 3,
   "metadata": {},
   "outputs": [],
   "source": [
    "from nltk.corpus import movie_reviews\n",
    "\n",
    "reviews_pos = []\n",
    "reviews_neg = []\n",
    "for fileid in movie_reviews.fileids('pos'):\n",
    "    words = extract_features(movie_reviews.words(fileid))\n",
    "    reviews_pos.append((bag_of_words(words), 'pos'))\n",
    "for fileid in movie_reviews.fileids('neg'):\n",
    "    words = extract_features(movie_reviews.words(fileid))\n",
    "    reviews_neg.append((bag_of_words(words), 'neg'))"
   ]
  },
  {
   "cell_type": "code",
   "execution_count": 4,
   "metadata": {},
   "outputs": [
    {
     "data": {
      "text/plain": [
       "'pos'"
      ]
     },
     "execution_count": 4,
     "metadata": {},
     "output_type": "execute_result"
    }
   ],
   "source": [
    "reviews_pos[123][1]"
   ]
  },
  {
   "cell_type": "markdown",
   "metadata": {},
   "source": [
    "### Split reviews into training and test sets\n",
    "We need to break up each group of reviews into a training set (about 80%) and a test set (the remaining 20%). In case there's some meaningful order to the reviews (e.g. the first 800 are from one group of reviewers, the next 200 are from another), we shuffle the sets first to ensure we aren't introducing additional bias. Note that this means our accuracy will not be exactly the same on every run; if you wish to see consistent results on each run, you can stabilize the shuffle by calling [random.seed(n)](https://www.geeksforgeeks.org/random-seed-in-python/) first."
   ]
  },
  {
   "cell_type": "code",
   "execution_count": 5,
   "metadata": {},
   "outputs": [],
   "source": [
    "from random import shuffle\n",
    "\n",
    "split_pct = .80\n",
    "\n",
    "def split_set(review_set):\n",
    "    split = int(len(review_set)*split_pct)\n",
    "    return (review_set[:split], review_set[split:])\n",
    "\n",
    "shuffle(reviews_pos)\n",
    "shuffle(reviews_neg)\n",
    "\n",
    "pos_train, pos_test = split_set(reviews_pos)\n",
    "neg_train, neg_test = split_set(reviews_neg)\n",
    "\n",
    "train_set = pos_train+neg_train\n",
    "test_set = pos_test+neg_test"
   ]
  },
  {
   "cell_type": "code",
   "execution_count": 6,
   "metadata": {},
   "outputs": [
    {
     "data": {
      "text/plain": [
       "({'capsule': 1,\n",
       "  'trippy': 1,\n",
       "  'hyperspeed': 1,\n",
       "  'action': 3,\n",
       "  'machine': 1,\n",
       "  'hong': 1,\n",
       "  'kong': 1,\n",
       "  'accomplished': 1,\n",
       "  'tsui': 1,\n",
       "  'hark': 1,\n",
       "  'van': 6,\n",
       "  'damme': 6,\n",
       "  'rodman': 4,\n",
       "  'nice': 2,\n",
       "  'chemistry': 1,\n",
       "  'stunts': 1,\n",
       "  'eyepopping': 1,\n",
       "  'stuff': 1,\n",
       "  'gets': 2,\n",
       "  'blowed': 1,\n",
       "  'real': 1,\n",
       "  'good': 3,\n",
       "  'want': 2,\n",
       "  'admit': 1,\n",
       "  'set': 1,\n",
       "  'loathe': 1,\n",
       "  'double': 2,\n",
       "  'team': 2,\n",
       "  'reeked': 1,\n",
       "  'cheapjack': 1,\n",
       "  'timing': 1,\n",
       "  'oriented': 1,\n",
       "  'marketing': 1,\n",
       "  'stick': 1,\n",
       "  'dennis': 2,\n",
       "  'movie': 4,\n",
       "  'quick': 1,\n",
       "  'hot': 1,\n",
       "  'something': 1,\n",
       "  'jean': 1,\n",
       "  'claude': 1,\n",
       "  'flagging': 1,\n",
       "  'career': 1,\n",
       "  'surprise': 1,\n",
       "  '--': 3,\n",
       "  'transcends': 1,\n",
       "  'dumb': 1,\n",
       "  'roots': 1,\n",
       "  'turns': 1,\n",
       "  'mess': 1,\n",
       "  'fun': 2,\n",
       "  'bring': 1,\n",
       "  'friends': 1,\n",
       "  'get': 3,\n",
       "  'pretzels': 1,\n",
       "  'blast': 1,\n",
       "  'jack': 1,\n",
       "  'quinn': 3,\n",
       "  'ex': 1,\n",
       "  'agent': 1,\n",
       "  'brought': 1,\n",
       "  'back': 2,\n",
       "  'one': 3,\n",
       "  'last': 1,\n",
       "  'mission': 2,\n",
       "  'think': 1,\n",
       "  'spy': 2,\n",
       "  'worth': 1,\n",
       "  'shoe': 1,\n",
       "  'phone': 1,\n",
       "  'would': 2,\n",
       "  'run': 1,\n",
       "  'like': 3,\n",
       "  'hell': 1,\n",
       "  'hears': 1,\n",
       "  'words': 1,\n",
       "  'character': 2,\n",
       "  'pregnant': 1,\n",
       "  'wife': 1,\n",
       "  'also': 3,\n",
       "  'sculptor': 1,\n",
       "  'unpleasant': 1,\n",
       "  'pressure': 1,\n",
       "  'used': 1,\n",
       "  'come': 1,\n",
       "  'assigned': 1,\n",
       "  'take': 1,\n",
       "  'old': 2,\n",
       "  'enemy': 1,\n",
       "  'terrorist': 1,\n",
       "  'named': 2,\n",
       "  'stavros': 3,\n",
       "  'mickey': 1,\n",
       "  'rourke': 1,\n",
       "  'looking': 1,\n",
       "  'oddly': 1,\n",
       "  'subdued': 1,\n",
       "  'may': 1,\n",
       "  'tricks': 1,\n",
       "  'first': 1,\n",
       "  'showdown': 1,\n",
       "  'wears': 1,\n",
       "  'ambitions': 1,\n",
       "  'proudly': 1,\n",
       "  'sleeve': 1,\n",
       "  'nonstop': 1,\n",
       "  'amusement': 1,\n",
       "  'park': 1,\n",
       "  'hospital': 1,\n",
       "  'private': 1,\n",
       "  'retired': 1,\n",
       "  'retreat': 1,\n",
       "  'rome': 1,\n",
       "  'various': 2,\n",
       "  'houses': 1,\n",
       "  'planes': 1,\n",
       "  'cars': 1,\n",
       "  'modes': 1,\n",
       "  'transport': 1,\n",
       "  'coliseum': 1,\n",
       "  'become': 1,\n",
       "  'arenas': 1,\n",
       "  'bone': 1,\n",
       "  'rattling': 1,\n",
       "  'shoot': 1,\n",
       "  'outs': 2,\n",
       "  'punch': 1,\n",
       "  'filmed': 1,\n",
       "  'better': 1,\n",
       "  'seen': 2,\n",
       "  'described': 1,\n",
       "  'reason': 1,\n",
       "  'enough': 1,\n",
       "  'see': 1,\n",
       "  'film': 1,\n",
       "  'jaw': 1,\n",
       "  'dropping': 1,\n",
       "  'scene': 1,\n",
       "  'taking': 1,\n",
       "  'man': 1,\n",
       "  'uses': 1,\n",
       "  'switchblade': 1,\n",
       "  'feet': 1,\n",
       "  'dextrous': 1,\n",
       "  'athlete': 1,\n",
       "  'fighter': 1,\n",
       "  'often': 1,\n",
       "  'upstaged': 1,\n",
       "  'touches': 1,\n",
       "  'thing': 1,\n",
       "  'retire': 1,\n",
       "  'peace': 1,\n",
       "  'families': 1,\n",
       "  'ambition': 1,\n",
       "  'ties': 1,\n",
       "  'together': 1,\n",
       "  'ways': 1,\n",
       "  'humanizes': 1,\n",
       "  'bit': 1,\n",
       "  'things': 1,\n",
       "  'hk': 1,\n",
       "  'movies': 1,\n",
       "  'always': 1,\n",
       "  'form': 1,\n",
       "  'human': 1,\n",
       "  'element': 1,\n",
       "  'carried': 1,\n",
       "  'well': 1,\n",
       "  'gives': 1,\n",
       "  'weight': 1,\n",
       "  'scenes': 1,\n",
       "  'otherwise': 1,\n",
       "  'forgettable': 1,\n",
       "  'playing': 1,\n",
       "  'weapons': 1,\n",
       "  'dealer': 1,\n",
       "  'yaz': 1,\n",
       "  'sticks': 1,\n",
       "  'fistful': 1,\n",
       "  'broken': 1,\n",
       "  'fingers': 1,\n",
       "  'funny': 1,\n",
       "  'standing': 1,\n",
       "  'natural': 1,\n",
       "  'screen': 1,\n",
       "  'watch': 1,\n",
       "  'especially': 1,\n",
       "  'slinging': 1,\n",
       "  'bad': 1,\n",
       "  'guys': 1,\n",
       "  'basketballs': 1,\n",
       "  'deserves': 1,\n",
       "  'based': 1,\n",
       "  'lightweight': 1,\n",
       "  'fast': 1,\n",
       "  'moving': 1,\n",
       "  'entertainment': 1,\n",
       "  'showcases': 1,\n",
       "  'pieces': 1,\n",
       "  'excellently': 1},\n",
       " 'pos')"
      ]
     },
     "execution_count": 6,
     "metadata": {},
     "output_type": "execute_result"
    }
   ],
   "source": [
    "test_set[1]"
   ]
  },
  {
   "cell_type": "markdown",
   "metadata": {},
   "source": [
    "### Train the model\n",
    "\n",
    "Now that our data is ready, the training step itself is quite simple if we use the [NaiveBayesClassifier](https://www.nltk.org/api/nltk.classify.html#module-nltk.classify.naivebayes) provided by NLTK.\n",
    "\n",
    "If you are used to methods such as `model.fit(x,y)` which take two parameters -- the data and the labels -- it may be confusing that `NaiveBayesClassifier.train` takes just one argument. This is because the labels are already embedded in `train_set`: each element in the set is a Bag of Words paired with a 'pos' or 'neg'; value."
   ]
  },
  {
   "cell_type": "code",
   "execution_count": 7,
   "metadata": {},
   "outputs": [],
   "source": [
    "from nltk.classify import NaiveBayesClassifier\n",
    "\n",
    "model = NaiveBayesClassifier.train(train_set)"
   ]
  },
  {
   "cell_type": "markdown",
   "metadata": {},
   "source": [
    "### Check model accuracy\n",
    "\n",
    "NLTK's built-in [accuracy](https://www.nltk.org/api/nltk.classify.html#module-nltk.classify.util) utility can run our test_set through the model and compare the labels returned by the model to the labels in the test set, producing an overall % accuracy. Not too impressive, right? We need to improve."
   ]
  },
  {
   "cell_type": "code",
   "execution_count": 8,
   "metadata": {},
   "outputs": [
    {
     "name": "stdout",
     "output_type": "stream",
     "text": [
      "66.5\n"
     ]
    }
   ],
   "source": [
    "from nltk.classify.util import accuracy\n",
    "\n",
    "print(100 * accuracy(model, test_set))"
   ]
  },
  {
   "cell_type": "markdown",
   "metadata": {},
   "source": [
    "### Save the model\n",
    "Our trained model will be cleared from memory when this notebook is closed. So that we can use it again later, save the model as a file using the [pickle](https://docs.python.org/3/library/pickle.html) serializer."
   ]
  },
  {
   "cell_type": "code",
   "execution_count": 9,
   "metadata": {
    "pycharm": {
     "name": "#%%\n"
    }
   },
   "outputs": [],
   "source": [
    "import pickle\n",
    "\n",
    "model_file = open('sa_classifier.pickle','wb')\n",
    "pickle.dump(model, model_file)\n",
    "model_file.close()"
   ]
  },
  {
   "cell_type": "markdown",
   "metadata": {},
   "source": [
    "## Trying a different model"
   ]
  },
  {
   "cell_type": "code",
   "execution_count": 14,
   "metadata": {},
   "outputs": [],
   "source": [
    "import numpy as np\n",
    "import pandas as pd\n",
    "from sklearn.feature_extraction.text import CountVectorizer\n",
    "from sklearn.feature_extraction.text import TfidfVectorizer\n",
    "from sklearn.preprocessing import LabelBinarizer\n",
    "from nltk.corpus import stopwords\n",
    "from nltk.stem.porter import PorterStemmer\n",
    "from nltk.stem import WordNetLemmatizer\n",
    "from nltk.tokenize import word_tokenize,sent_tokenize\n",
    "from nltk.tokenize.toktok import ToktokTokenizer\n",
    "from nltk.stem import LancasterStemmer, WordNetLemmatizer\n",
    "from sklearn.linear_model import LogisticRegression,SGDClassifier\n",
    "from sklearn.naive_bayes import MultinomialNB\n",
    "from sklearn import svm\n",
    "from sklearn.metrics import classification_report,confusion_matrix,accuracy_score\n",
    "import time"
   ]
  },
  {
   "cell_type": "markdown",
   "metadata": {},
   "source": [
    "### Turn data set into dataframe"
   ]
  },
  {
   "cell_type": "code",
   "execution_count": 10,
   "metadata": {},
   "outputs": [],
   "source": [
    "from nltk.corpus import movie_reviews as mr\n",
    "\n",
    "reviews = []\n",
    "for fileid in mr.fileids():\n",
    "    tag, filename = fileid.split('/')\n",
    "    reviews.append((mr.raw(fileid), tag))\n",
    "\n",
    "df = pd.DataFrame(reviews, columns=['review', 'sentiment'])\n",
    "df = df.sample(frac=1).reset_index(drop=True)"
   ]
  },
  {
   "cell_type": "code",
   "execution_count": 11,
   "metadata": {},
   "outputs": [
    {
     "data": {
      "text/html": [
       "<div>\n",
       "<style scoped>\n",
       "    .dataframe tbody tr th:only-of-type {\n",
       "        vertical-align: middle;\n",
       "    }\n",
       "\n",
       "    .dataframe tbody tr th {\n",
       "        vertical-align: top;\n",
       "    }\n",
       "\n",
       "    .dataframe thead th {\n",
       "        text-align: right;\n",
       "    }\n",
       "</style>\n",
       "<table border=\"1\" class=\"dataframe\">\n",
       "  <thead>\n",
       "    <tr style=\"text-align: right;\">\n",
       "      <th></th>\n",
       "      <th>review</th>\n",
       "      <th>sentiment</th>\n",
       "    </tr>\n",
       "  </thead>\n",
       "  <tbody>\n",
       "    <tr>\n",
       "      <th>count</th>\n",
       "      <td>2000</td>\n",
       "      <td>2000</td>\n",
       "    </tr>\n",
       "    <tr>\n",
       "      <th>unique</th>\n",
       "      <td>2000</td>\n",
       "      <td>2</td>\n",
       "    </tr>\n",
       "    <tr>\n",
       "      <th>top</th>\n",
       "      <td>here's a concept -- jean-claude van damme gets...</td>\n",
       "      <td>pos</td>\n",
       "    </tr>\n",
       "    <tr>\n",
       "      <th>freq</th>\n",
       "      <td>1</td>\n",
       "      <td>1000</td>\n",
       "    </tr>\n",
       "  </tbody>\n",
       "</table>\n",
       "</div>"
      ],
      "text/plain": [
       "                                                   review sentiment\n",
       "count                                                2000      2000\n",
       "unique                                               2000         2\n",
       "top     here's a concept -- jean-claude van damme gets...       pos\n",
       "freq                                                    1      1000"
      ]
     },
     "execution_count": 11,
     "metadata": {},
     "output_type": "execute_result"
    }
   ],
   "source": [
    "df.describe()"
   ]
  },
  {
   "cell_type": "code",
   "execution_count": 12,
   "metadata": {},
   "outputs": [
    {
     "data": {
      "text/plain": [
       "pos    1000\n",
       "neg    1000\n",
       "Name: sentiment, dtype: int64"
      ]
     },
     "execution_count": 12,
     "metadata": {},
     "output_type": "execute_result"
    }
   ],
   "source": [
    "df['sentiment'].value_counts()"
   ]
  },
  {
   "cell_type": "markdown",
   "metadata": {},
   "source": [
    "The above create a randomized dataframe of all the movie reviews with two columns, one of the review, the other of the text. Next step is to clean the reviews so that they can be turned into a better model."
   ]
  },
  {
   "cell_type": "markdown",
   "metadata": {},
   "source": [
    "### Text Cleaning\n"
   ]
  },
  {
   "cell_type": "code",
   "execution_count": 16,
   "metadata": {},
   "outputs": [
    {
     "name": "stderr",
     "output_type": "stream",
     "text": [
      "[nltk_data] Downloading package wordnet to\n",
      "[nltk_data]     C:\\Users\\pbrad\\AppData\\Roaming\\nltk_data...\n",
      "[nltk_data]   Unzipping corpora\\wordnet.zip.\n"
     ]
    }
   ],
   "source": [
    "nltk.download('wordnet')\n",
    "tokenizer=ToktokTokenizer()\n",
    "stopword_list=nltk.corpus.stopwords.words('english')\n",
    "lemmatizer = WordNetLemmatizer()\n",
    "import re\n",
    "\n",
    "def remove_special_characters(text, remove_digits=True):\n",
    "    pattern=r'[^a-zA-z0-9\\s]'\n",
    "    text=re.sub(pattern,'',text)\n",
    "    return text\n",
    "\n",
    "def simple_lemmer(text):\n",
    "    lemmatizer = WordNetLemmatizer()\n",
    "    word_list = nltk.word_tokenize(text)\n",
    "    lemmatized_output = ' '.join([lemmatizer.lemmatize(w) for w in word_list])\n",
    "    return lemmatized_output\n",
    "\n",
    "def remove_stopwords(text):\n",
    "    tokens = tokenizer.tokenize(text)\n",
    "    tokens = [token.strip() for token in tokens]\n",
    "    filtered_tokens = [token for token in tokens if token not in stopword_list]\n",
    "    filtered_text = ' '.join(filtered_tokens) \n",
    "    return filtered_text\n",
    "\n",
    "df['review'] = df['review'].apply(remove_special_characters)\n",
    "df['review'] = df['review'].apply(simple_lemmer)\n",
    "df['review'] = df['review'].apply(remove_stopwords)"
   ]
  },
  {
   "cell_type": "code",
   "execution_count": 17,
   "metadata": {},
   "outputs": [
    {
     "data": {
      "text/plain": [
       "'1989 director edward zwick began career powerful civil war drama glory since ha made continuous disappointment least 1994s legend fall 1996s courage fire two film werent bad good zwicks latest film siege ha finally made one siege modernday actionthriller focus terrorism sweeping new york city investigating matter fbi agent anthony hubbard denzel washington frank haddad tony shalhoub first hit ordeal city bus explodes several innocent people later bomb go broadway theater killing even soon meet cia operative elise kraft annette bening may well hold key identity arab terrorist movie simply dont need made siege may well one oh sure zwick think making meaningful action film since ha added lot exposition scene audience basically lectured horror terrorism really ha made actually substantial say die hard also starred bruce willis time willis horribly wasted general u army put state martial law nyc climax whatever point siege earnestly tried make obviously lost translation page screen maybe zwick never really anything serious say first place role arab community offensively stereotypical woman recent john caprenters vampire placing category bad guy siege contains three fine actorswashington bening shalhoubbut washington stuck character contains ounce even remote development bening ha slightly ha intriguing character work shalhoub pretty much steal show even though ha real character climax siege washington giving sermon willis socalled message story felt like wandered sequel deadly ground steven seagal gave 10minute speech end preserving environment siege constantly heavyhanded entertaining insightful go prove even best actor save film lack satisfactory screenplay'"
      ]
     },
     "execution_count": 17,
     "metadata": {},
     "output_type": "execute_result"
    }
   ],
   "source": [
    "df.iloc[69]['review']"
   ]
  },
  {
   "cell_type": "markdown",
   "metadata": {},
   "source": [
    "### Create the test/train split"
   ]
  },
  {
   "cell_type": "code",
   "execution_count": 18,
   "metadata": {},
   "outputs": [
    {
     "name": "stdout",
     "output_type": "stream",
     "text": [
      "(1600,) (1600,)\n",
      "(400,) (400,)\n"
     ]
    }
   ],
   "source": [
    "# Create Training Set\n",
    "train_reviews=df.review[:1600]\n",
    "train_sentiments=df.sentiment[:1600]\n",
    "\n",
    "# Create Test Set\n",
    "test_reviews=df.review[1600:]\n",
    "test_sentiments=df.sentiment[1600:]\n",
    "\n",
    "# Make sure things are the same\n",
    "print(train_reviews.shape,train_sentiments.shape)\n",
    "print(test_reviews.shape,test_sentiments.shape)"
   ]
  },
  {
   "cell_type": "markdown",
   "metadata": {},
   "source": [
    "Time to turn those reviews into vectors!"
   ]
  },
  {
   "cell_type": "code",
   "execution_count": 19,
   "metadata": {},
   "outputs": [],
   "source": [
    "vectorizer = TfidfVectorizer(min_df = 5,\n",
    "                             max_df = 0.8,\n",
    "                             sublinear_tf = True,\n",
    "                             use_idf = True)\n",
    "\n",
    "train_vectors = vectorizer.fit_transform(train_reviews)\n",
    "test_vectors = vectorizer.transform(test_reviews)"
   ]
  },
  {
   "cell_type": "code",
   "execution_count": 20,
   "metadata": {},
   "outputs": [
    {
     "name": "stdout",
     "output_type": "stream",
     "text": [
      "Training time: 5.634641s; Prediction time: 1.114868s\n",
      "positive:  {'precision': 0.895, 'recall': 0.8605769230769231, 'f1-score': 0.877450980392157, 'support': 208}\n",
      "negative:  {'precision': 0.855, 'recall': 0.890625, 'f1-score': 0.8724489795918368, 'support': 192}\n"
     ]
    }
   ],
   "source": [
    "classifier_linear = svm.SVC(kernel='linear')\n",
    "t0 = time.time()\n",
    "classifier_linear.fit(train_vectors, train_sentiments)\n",
    "t1 = time.time()\n",
    "prediction_linear = classifier_linear.predict(test_vectors)\n",
    "t2 = time.time()\n",
    "time_linear_train = t1-t0\n",
    "time_linear_predict = t2-t1\n",
    "\n",
    "print(\"Training time: %fs; Prediction time: %fs\" % (time_linear_train, time_linear_predict))\n",
    "\n",
    "report = classification_report(test_sentiments, prediction_linear, output_dict=True)\n",
    "print('positive: ', report['pos'])\n",
    "\n",
    "print('negative: ', report['neg'])"
   ]
  },
  {
   "cell_type": "code",
   "execution_count": 20,
   "metadata": {},
   "outputs": [],
   "source": [
    "# pickle the vectorizer \n",
    "\n",
    "pickle.dump(vectorizer, open('vectorizer.pickle', 'wb'))\n",
    "\n",
    "# pickle the model \n",
    "\n",
    "pickle.dump(classifier_linear, open('better_sa_classifier.pickle', 'wb'))"
   ]
  },
  {
   "cell_type": "markdown",
   "metadata": {},
   "source": [
    "### Save the model (Colab version)\n",
    "\n",
    "Google Colab doesn't provide direct access to files saved during a notebook session, so we need to save it in [Google Drive](https://drive.google.com) instead. The first time you run this, it will ask for permission to access your Google Drive. Follow the instructions, then wait a few minutes and look for a new folder called \"Colab Output\" in [Drive](https://drive.google.com). Note that Colab does not alway sync to Drive immediately, so check the file update times and re-run this cell if it doesn't look like you have the most revent version of your file."
   ]
  },
  {
   "cell_type": "code",
   "execution_count": null,
   "metadata": {},
   "outputs": [],
   "source": [
    "import sys\n",
    "if 'google.colab' in sys.modules:\n",
    "    from google.colab import drive\n",
    "    drive.mount('/content/gdrive')\n",
    "    !mkdir -p '/content/gdrive/My Drive/Colab Output'\n",
    "    model_file = open('/content/gdrive/My Drive/Colab Output/sa_classifier.pickle','wb')\n",
    "    pickle.dump(model, model_file)\n",
    "    model_file.flush()\n",
    "    print('Model saved in /content/gdrive/My Drive/Colab Output')\n",
    "    !ls '/content/gdrive/My Drive/Colab Output'\n",
    "    drive.flush_and_unmount()\n",
    "    print('Re-run this cell if you cannot find it in https://drive.google.com')"
   ]
  }
 ],
 "metadata": {
  "anaconda-cloud": {},
  "kernelspec": {
   "display_name": "Python 3",
   "language": "python",
   "name": "python3"
  },
  "language_info": {
   "codemirror_mode": {
    "name": "ipython",
    "version": 3
   },
   "file_extension": ".py",
   "mimetype": "text/x-python",
   "name": "python",
   "nbconvert_exporter": "python",
   "pygments_lexer": "ipython3",
   "version": "3.7.4"
  },
  "pycharm": {
   "stem_cell": {
    "cell_type": "raw",
    "metadata": {
     "collapsed": false
    },
    "source": []
   }
  }
 },
 "nbformat": 4,
 "nbformat_minor": 1
}
